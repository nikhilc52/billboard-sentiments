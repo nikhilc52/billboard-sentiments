{
 "cells": [
  {
   "cell_type": "code",
   "execution_count": null,
   "id": "f259d5d9",
   "metadata": {},
   "outputs": [],
   "source": [
    "import lyricsgenius\n",
    "import pandas as pd\n",
    "import re\n",
    "#API KEY\n",
    "genius = lyricsgenius.Genius('XXX')\n",
    "\n",
    "#with open(\"testing.txt\", \"w\", encoding=\"utf-8\") as myfile:\n",
    "#myfile.write(song.lyrics)"
   ]
  },
  {
   "cell_type": "code",
   "execution_count": null,
   "id": "c2f8d3bf",
   "metadata": {
    "scrolled": false
   },
   "outputs": [],
   "source": [
    "#import chart data containing name and artist for top songs in given year\n",
    "data = pd.read_csv('data.csv', encoding =\"latin1\")\n",
    "\n",
    "#method to clean the song lyrics\n",
    "def cleanLyrics(song):\n",
    "    \n",
    "    #remove chorus, verse, etc.\n",
    "    song.lyrics = re.sub(\"\\[.*?\\]\", \"\", song.lyrics)\n",
    "    \n",
    "    #remove ending \"embed\"\n",
    "    song.lyrics = re.sub(r'\\d+Embed\\d+', '', song.lyrics)\n",
    "    song.lyrics = re.sub(r'\\d+Embed', '', song.lyrics)\n",
    "    song.lyrics = re.sub(r'Embed\\d+', '', song.lyrics)\n",
    "    song.lyrics = re.sub(r'Embed', '', song.lyrics)\n",
    "    \n",
    "    #remove first line\n",
    "    song.lyrics = song.lyrics.split('\\n', 1)[1:]\n",
    "    song.lyrics = '\\n'.join(song.lyrics)\n",
    "    \n",
    "    #remove advert that contains \"liveget\"\n",
    "    song.lyrics = re.sub(r'\\n.*LiveGet.*\\n', '\\n', song.lyrics)\n",
    "\n",
    "    return song.lyrics\n",
    "\n",
    "    \n",
    "def getLyrics(songStart, songEnd):\n",
    "    for x in range(songStart,songEnd):\n",
    "        #get the name for a given song, removing \"\"\n",
    "        name = data['Title'][x]\n",
    "        name = name[1:len(name)-1]\n",
    "\n",
    "        #get the artist for a given song\n",
    "        artist = data['Artist'][x]\n",
    "\n",
    "        #print the song # in the file\n",
    "        print(\"Song #\" + str(x+1))\n",
    "\n",
    "        try:\n",
    "            #search for the song\n",
    "            song = genius.search_song(name, artist)\n",
    "            \n",
    "            #if the song has no lyrics, give the song lyrics \"\"\n",
    "            if song is None:\n",
    "                #add the lyrics to a df\n",
    "                data['Lyrics'][x] = \"\"\n",
    "                data.to_csv('data.csv', index=False)\n",
    "            else:\n",
    "                #clean the lyrics\n",
    "                song.lyrics = cleanLyrics(song)\n",
    "                \n",
    "                #add the lyrics to a df\n",
    "                data['Lyrics'][x] = song.lyrics\n",
    "                data.to_csv('data.csv', index=False)\n",
    "        except:\n",
    "            return x\n",
    "        \n",
    "        \n",
    "songStart = 2557\n",
    "songEnd = 5000\n",
    "\n",
    "while songStart < songEnd:\n",
    "    songStart = getLyrics(songStart, songEnd)\n",
    "\n",
    "print(skipped)\n",
    "# song = genius.search_song(\"Lookin' At Me\", \"Mase\")\n",
    "# song.lyrics = cleanLyrics(song)\n",
    "\n",
    "# print(song.lyrics)"
   ]
  },
  {
   "cell_type": "code",
   "execution_count": null,
   "id": "999c7150",
   "metadata": {
    "scrolled": true
   },
   "outputs": [],
   "source": [
    "with open('data.csv') as f:\n",
    "    print(f)"
   ]
  },
  {
   "cell_type": "code",
   "execution_count": null,
   "id": "799a71c5",
   "metadata": {},
   "outputs": [],
   "source": []
  }
 ],
 "metadata": {
  "kernelspec": {
   "display_name": "Python 3 (ipykernel)",
   "language": "python",
   "name": "python3"
  },
  "language_info": {
   "codemirror_mode": {
    "name": "ipython",
    "version": 3
   },
   "file_extension": ".py",
   "mimetype": "text/x-python",
   "name": "python",
   "nbconvert_exporter": "python",
   "pygments_lexer": "ipython3",
   "version": "3.11.4"
  }
 },
 "nbformat": 4,
 "nbformat_minor": 5
}
