{
 "cells": [
  {
   "cell_type": "code",
   "execution_count": null,
   "id": "4c19d369",
   "metadata": {
    "scrolled": true
   },
   "outputs": [],
   "source": [
    "import nltk\n",
    "\n",
    "nltk.download([\n",
    "     \"names\",\n",
    "     \"stopwords\",\n",
    "     \"state_union\",\n",
    "     \"twitter_samples\",\n",
    "     \"movie_reviews\",\n",
    "     \"averaged_perceptron_tagger\",\n",
    "     \"vader_lexicon\",\n",
    "     \"punkt\",\n",
    " ])\n",
    "\n",
    "nltk.download('wordnet')\n",
    "from nltk.stem import WordNetLemmatizer"
   ]
  },
  {
   "cell_type": "code",
   "execution_count": null,
   "id": "e48b8752",
   "metadata": {},
   "outputs": [],
   "source": [
    "import pandas as pd\n",
    "from nltk.sentiment import SentimentIntensityAnalyzer\n",
    "\n",
    "wnl = WordNetLemmatizer()\n",
    "data = pd.read_csv('final.csv', encoding =\"latin1\")\n",
    "\n",
    "# text = nltk.word_tokenize(data['Lyrics'][19])\n",
    "# words = [w for w in text if w.isalpha()]\n",
    "# stopwords = nltk.corpus.stopwords.words(\"english\")\n",
    "# words = [w for w in words if w.lower() not in stopwords]\n",
    "# fd = nltk.FreqDist(words)\n",
    "# fd\n",
    "\n",
    "combinedL = []\n",
    "\n",
    "for x in range(6603):\n",
    "    if isinstance(data['Lyrics'][x], str) and len(data['Lyrics'][x]) > 1 and int(data['Year'][x]) <= 1989 and int(data['Year'][x]) >= 1980:\n",
    "        text = nltk.word_tokenize(data['Lyrics'][x])\n",
    "        words = [w for w in text if w.isalpha()]\n",
    "        stopwords = nltk.corpus.stopwords.words(\"english\")\n",
    "        words = [w for w in words if w.lower() not in stopwords]\n",
    "        words = [w.lower() for w in words]\n",
    "        words = [wnl.lemmatize(w) for w in words]\n",
    "        combinedL += words\n",
    "        \n",
    "fdL = nltk.FreqDist(combinedL)\n",
    "fdL"
   ]
  },
  {
   "cell_type": "code",
   "execution_count": null,
   "id": "85eb7553",
   "metadata": {},
   "outputs": [],
   "source": [
    "wnl.lemmatize(\"thought\")"
   ]
  },
  {
   "cell_type": "code",
   "execution_count": null,
   "id": "def02b60",
   "metadata": {},
   "outputs": [],
   "source": [
    "import csv\n",
    "\n",
    "# Specify the output file path\n",
    "output_file = '1980sFDL.csv'\n",
    "\n",
    "# Sort the word-frequency pairs by frequency\n",
    "sorted_items = sorted(fdL.items(), key=lambda x: x[1], reverse=True)\n",
    "\n",
    "# Write the sorted word-frequency pairs to a CSV file\n",
    "with open(output_file, 'w', newline='') as csvfile:\n",
    "    writer = csv.writer(csvfile)\n",
    "    writer.writerow(['Word', 'Frequency'])\n",
    "    for word, freq in sorted_items:\n",
    "        writer.writerow([word, freq])\n",
    "\n",
    "print(\"Frequency distribution sorted and saved to\", output_file)"
   ]
  },
  {
   "cell_type": "code",
   "execution_count": null,
   "id": "9bb6a62a",
   "metadata": {},
   "outputs": [],
   "source": [
    "import csv\n",
    "\n",
    "# Specify the output file path\n",
    "output_file = 'Temp.csv'\n",
    "\n",
    "# Write the sorted word-frequency pairs to a CSV file\n",
    "with open(output_file, 'w', newline='') as csvfile:\n",
    "    writer = csv.writer(csvfile)\n",
    "    for y in range(1960, 2024):\n",
    "        combined = []\n",
    "        for x in range(6603):\n",
    "            if isinstance(data['Lyrics'][x], str) and len(data['Lyrics'][x]) > 1 and int(data['Year'][x]) == y:\n",
    "                text = nltk.word_tokenize(data['Lyrics'][x])\n",
    "                words = [w for w in text if w.isalpha()]\n",
    "                stopwords = nltk.corpus.stopwords.words(\"english\")\n",
    "                words = [w for w in words if w.lower() not in stopwords]\n",
    "                words = [w.lower() for w in words]\n",
    "                words = [wnl.lemmatize(w) for w in words]\n",
    "                combined += words\n",
    "        fdL = nltk.FreqDist(combined)\n",
    "        # Sort the word-frequency pairs by frequency\n",
    "        sorted_items = sorted(fdL.items(), key=lambda x: x[1], reverse=True)\n",
    "\n",
    "        writer.writerow([\"\",\"\"])\n",
    "        writer.writerow([\"Year:\", y])\n",
    "        print(y)\n",
    "        writer.writerow(['Word', 'Frequency'])\n",
    "        for word, freq in sorted_items:\n",
    "            writer.writerow([word, freq])\n",
    "\n",
    "print(\"Frequency distribution sorted and saved to\", output_file)"
   ]
  },
  {
   "cell_type": "code",
   "execution_count": null,
   "id": "f1c6dd66",
   "metadata": {},
   "outputs": [],
   "source": []
  },
  {
   "cell_type": "code",
   "execution_count": null,
   "id": "576e44f4",
   "metadata": {},
   "outputs": [],
   "source": []
  }
 ],
 "metadata": {
  "kernelspec": {
   "display_name": "Python 3 (ipykernel)",
   "language": "python",
   "name": "python3"
  },
  "language_info": {
   "codemirror_mode": {
    "name": "ipython",
    "version": 3
   },
   "file_extension": ".py",
   "mimetype": "text/x-python",
   "name": "python",
   "nbconvert_exporter": "python",
   "pygments_lexer": "ipython3",
   "version": "3.11.4"
  }
 },
 "nbformat": 4,
 "nbformat_minor": 5
}
