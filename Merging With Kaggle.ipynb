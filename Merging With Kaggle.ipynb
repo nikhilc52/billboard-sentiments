{
 "cells": [
  {
   "cell_type": "code",
   "execution_count": 119,
   "id": "10b60649",
   "metadata": {},
   "outputs": [],
   "source": [
    "import pandas as pd\n",
    "\n",
    "\n",
    "data = pd.read_csv(\"scores edit.csv\") \n",
    "df = pd.DataFrame(data)\n",
    "\n",
    "\n",
    "ls = []\n",
    "for x in data['track']:\n",
    "    ls.append(x[1:len(x)-1].lower())\n",
    "    \n",
    "df[\"track\"] = ls\n",
    "df['track'] = df['track'].str.strip()\n",
    "\n",
    "ls = []\n",
    "for x in data['artist2']:\n",
    "    ls.append(x.lower())\n",
    "df[\"artist2\"] = ls\n",
    "df['artist2'] = df['artist2'].str.strip()\n",
    "\n",
    "df = df[398:6397]\n",
    "\n",
    "data2 = pd.read_csv(\"genre_music.csv\")\n",
    "df2 = pd.DataFrame(data2)\n",
    "\n",
    "ls = []\n",
    "for x in data2['track']: \n",
    "    ls.append(x.lower())\n",
    "df2[\"track\"] = ls\n",
    "df2['track'] = df2['track'].str.strip()\n",
    "\n",
    "ls = []\n",
    "for x in data2['artist2']:\n",
    "    ls.append(x.lower())\n",
    "df2[\"artist2\"] = ls\n",
    "df2['artist2'] = df2['artist2'].str.strip()\n",
    "\n",
    "\n",
    "final_df = pd.merge(df, df2, on=[\"track\",'artist2'], how=\"left\")\n",
    "\n",
    "final_df = final_df.drop_duplicates()\n",
    "final_df.to_csv(\"features.csv\", index=False)\n",
    "\n",
    "\n",
    "# empty = pd.DataFrame()\n",
    "# count = 0\n",
    "# for x in range(6182):\n",
    "#     artist = final_df['artistK'][x]\n",
    "#     if(pd.isna(artist)):\n",
    "#         empty = empty.append(final_df.iloc[x])\n",
    "    \n",
    "#empty.to_csv(\"needsMatching.csv\", index=False)"
   ]
  },
  {
   "cell_type": "code",
   "execution_count": 123,
   "id": "952f26ec",
   "metadata": {},
   "outputs": [],
   "source": [
    "data = pd.read_csv(\"features.csv\") \n",
    "df = pd.DataFrame(data)\n",
    "\n",
    "data = pd.read_csv(\"needsMatching.csv\") \n",
    "df2 = pd.DataFrame(data)\n",
    "\n",
    "final_df = pd.merge(df, df2, on=[\"track\", \"artist2\"], how=\"left\")\n",
    "final_df.to_csv(\"merged.csv\",index=False)"
   ]
  }
 ],
 "metadata": {
  "kernelspec": {
   "display_name": "Python 3 (ipykernel)",
   "language": "python",
   "name": "python3"
  },
  "language_info": {
   "codemirror_mode": {
    "name": "ipython",
    "version": 3
   },
   "file_extension": ".py",
   "mimetype": "text/x-python",
   "name": "python",
   "nbconvert_exporter": "python",
   "pygments_lexer": "ipython3",
   "version": "3.11.4"
  }
 },
 "nbformat": 4,
 "nbformat_minor": 5
}
