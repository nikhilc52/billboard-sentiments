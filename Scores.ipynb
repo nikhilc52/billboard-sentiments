{
 "cells": [
  {
   "cell_type": "code",
   "execution_count": null,
   "id": "4c19d369",
   "metadata": {
    "scrolled": true
   },
   "outputs": [],
   "source": [
    "import nltk\n",
    "\n",
    "nltk.download([\n",
    "     \"names\",\n",
    "     \"stopwords\",\n",
    "     \"state_union\",\n",
    "     \"twitter_samples\",\n",
    "     \"movie_reviews\",\n",
    "     \"averaged_perceptron_tagger\",\n",
    "     \"vader_lexicon\",\n",
    "     \"punkt\",\n",
    " ])"
   ]
  },
  {
   "cell_type": "code",
   "execution_count": null,
   "id": "e48b8752",
   "metadata": {},
   "outputs": [],
   "source": [
    "import pandas as pd\n",
    "from nltk.sentiment import SentimentIntensityAnalyzer\n",
    "\n",
    "data = pd.read_csv('final.csv', encoding =\"latin1\")\n",
    "sia = SentimentIntensityAnalyzer()\n",
    "\n",
    "#intersting test cases: 667 - broccoli, 463 - murder on my mind, 408 - high hopes\n",
    "\n",
    "# x=0\n",
    "# lyrics = data['Lyrics'][x]\n",
    "# print(data['Title'][x])\n",
    "# #result = re.sub(r'[^a-zA-Z0-9!@#$%^&*()_+<>?,./ \"\\'\\n-]', \"\", lyrics)\n",
    "# print(sia.polarity_scores(lyrics)[\"compound\"])\n",
    "\n",
    "for x in range(6603):\n",
    "    if isinstance(data['Lyrics'][x], str) and len(data['Lyrics'][x]) > 1:\n",
    "        lyrics = data['Lyrics'][x]\n",
    "        data['Compound Score'][x] = sia.polarity_scores(lyrics)[\"compound\"]\n",
    "        print(x)\n",
    "    else:\n",
    "        data['Compound Score'][x] = \"\"\n",
    "        print(x)\n",
    "        \n",
    "data.to_csv('scores.csv',index= False)\n",
    "\n",
    "\n",
    "        \n"
   ]
  },
  {
   "cell_type": "code",
   "execution_count": null,
   "id": "2f1ecad7",
   "metadata": {},
   "outputs": [],
   "source": [
    "import re \n",
    " \n",
    "x = data['Lyrics'][5]\n",
    "result = re.sub(r'[^a-zA-Z0-9!@#$%^&*()_+<>?,./ \"\\'\\n-]', \"\", x) \n",
    "print(result) "
   ]
  },
  {
   "cell_type": "code",
   "execution_count": null,
   "id": "62d23a1e",
   "metadata": {},
   "outputs": [],
   "source": [
    "import re \n",
    "test = pd.read_csv('FINAL LYRICS.csv', encoding =\"latin1\")\n",
    "\n",
    "for x in range(6602):\n",
    "    text = data['Title'][x]\n",
    "    if isinstance(text, str):\n",
    "        result = re.sub(r'[^a-zA-Z0-9!@#$%^&*()_+<>?,./ \"\\'\\n-]', \"\", text) \n",
    "        data['Title'][x] = result\n",
    "\n",
    "print(\"1\")    \n",
    "\n",
    "for x in range(6602):\n",
    "    text = data['Artist'][x]\n",
    "    if isinstance(text, str):\n",
    "        result = re.sub(r'[^a-zA-Z0-9!@#$%^&*()_+<>?,./ \"\\'\\n-]', \"\", text) \n",
    "        data['Artist'][x] = result\n",
    "    \n",
    "print(\"1\")    \n",
    "\n",
    "for x in range(6602):\n",
    "    text = data['Lyrics'][x]\n",
    "    if isinstance(text, str):\n",
    "        result = re.sub(r'[^a-zA-Z0-9!@#$%^&*()_+<>?,./ \"\\'\\n-]', \"\", text) \n",
    "        data['Lyrics'][x] = result\n",
    "\n",
    "print(\"1\")\n",
    "\n",
    "data.to_csv('final.csv',index=False)"
   ]
  },
  {
   "cell_type": "code",
   "execution_count": null,
   "id": "96b7f3d1",
   "metadata": {},
   "outputs": [],
   "source": []
  }
 ],
 "metadata": {
  "kernelspec": {
   "display_name": "Python 3 (ipykernel)",
   "language": "python",
   "name": "python3"
  },
  "language_info": {
   "codemirror_mode": {
    "name": "ipython",
    "version": 3
   },
   "file_extension": ".py",
   "mimetype": "text/x-python",
   "name": "python",
   "nbconvert_exporter": "python",
   "pygments_lexer": "ipython3",
   "version": "3.11.4"
  }
 },
 "nbformat": 4,
 "nbformat_minor": 5
}
